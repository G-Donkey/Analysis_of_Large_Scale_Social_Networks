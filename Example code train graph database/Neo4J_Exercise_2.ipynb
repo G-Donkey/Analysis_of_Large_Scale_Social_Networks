{
  "nbformat": 4,
  "nbformat_minor": 0,
  "metadata": {
    "kernelspec": {
      "display_name": "Python 3",
      "language": "python",
      "name": "python3"
    },
    "language_info": {
      "codemirror_mode": {
        "name": "ipython",
        "version": 3
      },
      "file_extension": ".py",
      "mimetype": "text/x-python",
      "name": "python",
      "nbconvert_exporter": "python",
      "pygments_lexer": "ipython3",
      "version": "3.7.6"
    },
    "colab": {
      "name": "Neo4J.ipynb",
      "provenance": []
    }
  },
  "cells": [
    {
      "cell_type": "code",
      "metadata": {
        "id": "NOOrv3lAFlUe"
      },
      "source": [
        "!pip install neo4j\n",
        "!pip install python-igraph\n",
        "!pip install easygui\n",
        "!pip install cairocffi"
      ],
      "execution_count": null,
      "outputs": []
    },
    {
      "cell_type": "code",
      "metadata": {
        "id": "5MVjllO5Fcip"
      },
      "source": [
        "from neo4j import GraphDatabase\n",
        "import igraph as ig"
      ],
      "execution_count": 2,
      "outputs": []
    },
    {
      "cell_type": "code",
      "metadata": {
        "id": "GJ5v3-ezFci2"
      },
      "source": [
        "driver=GraphDatabase.driver(\"bolt://3.72.36.113:7687\",\n",
        "                            auth=(\"neo4j\", \"ALSSNExercise2\"),\n",
        "                            encrypted = False)\n",
        "session = driver.session()"
      ],
      "execution_count": 3,
      "outputs": []
    },
    {
      "cell_type": "code",
      "metadata": {
        "id": "wXeeTg68FcjB"
      },
      "source": [
        "results = session.run(\"MATCH (n)-[r]-() RETURN count(distinct n) + count(distinct r) as cnt\")\n",
        "\n",
        "for result in results:\n",
        "    print(result[\"cnt\"])\n",
        "    print(result)"
      ],
      "execution_count": null,
      "outputs": []
    },
    {
      "cell_type": "code",
      "metadata": {
        "id": "vI5Fkd5TFcjV"
      },
      "source": [
        "edges = list()\n",
        "edge_w = list()\n",
        "vertices = set()\n",
        "\n",
        "results = session.run(\"match (n:Stop)<-[:PART_OF]-(:Stop)-[:LOCATED_AT]-(s:Stoptime)-[:PART_OF_TRIP]-(t:Trip {}) \"\\\n",
        "  \"-[:PART_OF_TRIP]-(:Stoptime)-[:LOCATED_AT]-(:Stop)-[:PART_OF]->(m:Stop) \"\\\n",
        "  \"where n.id<>m.id and t.id starts with 'IC'\"\\\n",
        "  \"return n,m, count(s) as cnt\")\n",
        "g = ig.Graph()\n",
        "\n",
        "for result in results:\n",
        "  vertices.add(str(result[\"n\"][\"name\"]))\n",
        "  vertices.add(str(result[\"m\"][\"name\"]))\n",
        "  edges.append([str(result[\"n\"][\"name\"]), str(result[\"m\"][\"name\"])])\n",
        "  edge_w.append(1/result[\"cnt\"])\n",
        "\n",
        "g.add_vertices(list(vertices))\n",
        "g.add_edges(edges)\n",
        "g.es[\"weight\"]=edge_w"
      ],
      "execution_count": 5,
      "outputs": []
    },
    {
      "cell_type": "code",
      "metadata": {
        "id": "wp8hEuqoaNiR"
      },
      "source": [
        "print(g.is_weighted())\n",
        "print(g.ecount())"
      ],
      "execution_count": null,
      "outputs": []
    },
    {
      "cell_type": "code",
      "metadata": {
        "id": "J2ADJeH6SWf2"
      },
      "source": [
        "\n",
        "# Calculate layout\n",
        "layout_fr = g.layout(\"fr\")\n",
        "\n",
        "#Define style from network plotting\n",
        "visual_style = {}\n",
        "visual_style[\"vertex_size\"] = 1\n",
        "visual_style[\"vertex_label_size\"]=5\n",
        "visual_style[\"vertex_color\"] = \"red\"\n",
        "visual_style[\"vertex_label\"] = g.vs[\"name\"]\n",
        "visual_style[\"layout\"] = layout_fr\n",
        "visual_style[\"bbox\"] = (1200, 800)\n",
        "visual_style[\"margin\"] = 10\n",
        "\n",
        "ig.plot(g, **visual_style)"
      ],
      "execution_count": null,
      "outputs": []
    }
  ]
}